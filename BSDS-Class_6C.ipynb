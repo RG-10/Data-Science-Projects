{
 "cells": [
  {
   "cell_type": "markdown",
   "metadata": {},
   "source": [
    "# Introduction to Python\n",
    "\n",
    "\n",
    "## A Quick tour of Python\n",
    "========================\n",
    "\n",
    "In this notebook, we will cover a wide variety of topics about the Python language to give you a broad overview of the data structures it offers, some use cases for them and the kinds of tasks they can be used for. \n"
   ]
  },
  {
   "cell_type": "markdown",
   "metadata": {},
   "source": [
    "<a id=\"TOC\"></a>\n",
    "# Table of Contents"
   ]
  },
  {
   "cell_type": "markdown",
   "metadata": {},
   "source": [
    "# A. [Basics](#Basics)\n",
    "# B. [Python Common Data Structures](#PCDS)\n",
    "# C. [Conditional Statements](#Conditional_Statements)                      \t\t\t\t\n",
    "# D. [Functions](#Functions)     \n",
    "# E. [Classes](#Classes)\n",
    "# F. [Python for General Purpose Tasks](#PGPT)\n",
    "# G. [Excercises](#Excercises)"
   ]
  },
  {
   "cell_type": "markdown",
   "metadata": {},
   "source": [
    "[Back To The Table of Contents](#TOC)"
   ]
  },
  {
   "cell_type": "markdown",
   "metadata": {},
   "source": [
    "<a id=\"Conditional_Statements\"></a>\n",
    "## Conditional Statements\n",
    "-------------\n",
    "\n",
    "### If statements\n",
    "\n",
    "The simplest sort of way of controlling execution is to decide whether or not\n",
    "a particular piece of code should be executed or not, based upon some\n",
    "condition.  This could include:\n",
    "\n",
    "* computing a particular value for a function in the special case e.g. where\n",
    "  `x = 0`\n",
    "\n",
    "* testing if an input is good, and only computing values if it is\n",
    "\n",
    "* executing different pieces of code depending on a command string read from a file\n",
    "  \n",
    "In each of these cases, we execute the code *if* some condition holds, so the\n",
    "statement in Python (and many other languages) that lets us do this is called the `if` statement.\n",
    "\n",
    "In Python, `tab` is used as an indentation of block of code\n",
    "\n",
    "The simplest form of the `if` statement looks like this:"
   ]
  },
  {
   "cell_type": "code",
   "execution_count": 118,
   "metadata": {},
   "outputs": [
    {
     "name": "stdout",
     "output_type": "stream",
     "text": [
      "Hey!\n",
      "x is positive\n",
      "that s good\n"
     ]
    }
   ],
   "source": [
    "x = 0.5\n",
    "\n",
    "if x > 0:\n",
    "    print (\"Hey!\")\n",
    "    print (\"x is positive\")\n",
    "else:\n",
    "    print('try again')\n",
    "    print('okkkk')\n",
    "print('that s good')"
   ]
  },
  {
   "cell_type": "code",
   "execution_count": 119,
   "metadata": {},
   "outputs": [
    {
     "name": "stdout",
     "output_type": "stream",
     "text": [
      "Hey!\n",
      "x is positive\n",
      "This is still part of the block\n",
      "This isn't part of the block, and will always print.\n"
     ]
    }
   ],
   "source": [
    "if x > 0:\n",
    "    print (\"Hey!\")\n",
    "    print (\"x is positive\")\n",
    "    print (\"This is still part of the block\")\n",
    "print (\"This isn't part of the block, and will always print.\")"
   ]
  },
  {
   "cell_type": "code",
   "execution_count": 120,
   "metadata": {},
   "outputs": [
    {
     "name": "stdout",
     "output_type": "stream",
     "text": [
      "This isn't part of the block, and will always print.\n"
     ]
    }
   ],
   "source": [
    "x = -0.5\n",
    "\n",
    "if x > 0:\n",
    "    print (\"Hey!\")\n",
    "    print (\"x is positive\")\n",
    "    print (\"This is still part of the block\")\n",
    "print (\"This isn't part of the block, and will always print.\")"
   ]
  },
  {
   "cell_type": "code",
   "execution_count": 121,
   "metadata": {},
   "outputs": [
    {
     "name": "stdout",
     "output_type": "stream",
     "text": [
      "x is zero\n"
     ]
    }
   ],
   "source": [
    "x = 0\n",
    "\n",
    "if x > 0:\n",
    "    print (\"x is positive\")\n",
    "elif x == 0:\n",
    "    print (\"x is zero\")\n",
    "else:\n",
    "    print (\"x is negative\")"
   ]
  },
  {
   "cell_type": "code",
   "execution_count": 122,
   "metadata": {},
   "outputs": [
    {
     "name": "stdout",
     "output_type": "stream",
     "text": [
      "The first element is: 0\n"
     ]
    }
   ],
   "source": [
    "# to check the elements in the list\n",
    "mylist = [0, 1, 4, 1, 5, 9]\n",
    "#mylist = []\n",
    "if mylist:\n",
    "    print (\"The first element is:\", mylist[0])\n",
    "else:\n",
    "    print (\"There is no first element.\")"
   ]
  },
  {
   "cell_type": "code",
   "execution_count": 123,
   "metadata": {},
   "outputs": [
    {
     "name": "stdout",
     "output_type": "stream",
     "text": [
      "The first element is: 0\n"
     ]
    }
   ],
   "source": [
    "if len(mylist) >= 1:\n",
    "    print (\"The first element is:\", mylist[0])\n",
    "else:\n",
    "    print (\"There is no first element.\")"
   ]
  },
  {
   "cell_type": "markdown",
   "metadata": {},
   "source": [
    "Loops\n",
    "=======\n",
    "\n",
    "When programming, you want to be able to repeatedly execute chunks of code\n",
    "without having to manually duplicate the code.  Being able to repeat a set of\n",
    "instructions in a controlled manner is perhaps the most important function of any\n",
    "sort of automation, and being able to write code to execute something a\n",
    "million times as easily as writing code to execute something three times is\n",
    "important.\n",
    "\n",
    "Python implements a number of looping constructs, and in this lecture we'll\n",
    "discuss the `while` loop and the `for` loop.\n",
    "\n",
    "While loop\n",
    "----------\n",
    "\n",
    "The `while` loop is the simplest form of loop in Python.  It is similar to an `if`\n",
    "statement, in that it evaluates a test which evaluates to `True` or `False`.\n",
    "Unlike the `if` statement, however, a `while` statement doesn't just execute the following\n",
    "block of code once, it executes it over and over, re-evaluating the test\n",
    "before each repetition.  When the test evaluates to `False`, the loop will stop\n",
    "executing, and execution will continue with the next section of code.  Just\n",
    "like the `if` statement, indentation determines which lines of code are\n",
    "associated with the `while` statement.\n",
    "\n",
    "A simple example of a `while` loop might look something like this:"
   ]
  },
  {
   "cell_type": "code",
   "execution_count": 117,
   "metadata": {},
   "outputs": [
    {
     "name": "stdout",
     "output_type": "stream",
     "text": [
      "4950\n"
     ]
    }
   ],
   "source": [
    "i = 0\n",
    "total = 0\n",
    "while i < 100:\n",
    "    total += i\n",
    "    i += 1\n",
    "print (total)"
   ]
  },
  {
   "cell_type": "markdown",
   "metadata": {},
   "source": [
    "'For' loop\n",
    "==="
   ]
  },
  {
   "cell_type": "code",
   "execution_count": 113,
   "metadata": {},
   "outputs": [
    {
     "name": "stdout",
     "output_type": "stream",
     "text": [
      "0\n",
      "1\n",
      "2\n",
      "3\n",
      "4\n"
     ]
    }
   ],
   "source": [
    "for i in range(5):\n",
    "    print (i)"
   ]
  },
  {
   "cell_type": "code",
   "execution_count": 9,
   "metadata": {},
   "outputs": [
    {
     "name": "stdout",
     "output_type": "stream",
     "text": [
      "0\n",
      "5\n",
      "10\n",
      "15\n",
      "20\n",
      "25\n",
      "30\n",
      "35\n",
      "40\n",
      "45\n"
     ]
    }
   ],
   "source": [
    "for i in range(0,50,5):  ##0 to 50 with 7 difference\n",
    "    print(i)"
   ]
  },
  {
   "cell_type": "code",
   "execution_count": 114,
   "metadata": {},
   "outputs": [
    {
     "data": {
      "text/plain": [
       "['1', '2', '3', '4', '5']"
      ]
     },
     "execution_count": 114,
     "metadata": {},
     "output_type": "execute_result"
    }
   ],
   "source": [
    "line = '1 2 3 4 5'\n",
    "fields = line.split()\n",
    "fields"
   ]
  },
  {
   "cell_type": "code",
   "execution_count": 3,
   "metadata": {},
   "outputs": [
    {
     "data": {
      "text/plain": [
       "15"
      ]
     },
     "execution_count": 3,
     "metadata": {},
     "output_type": "execute_result"
    }
   ],
   "source": [
    "fields = [1,2,3,4,5]\n",
    "total = 0\n",
    "for field in fields:\n",
    "    total += field\n",
    "total"
   ]
  },
  {
   "cell_type": "code",
   "execution_count": 5,
   "metadata": {},
   "outputs": [
    {
     "name": "stdout",
     "output_type": "stream",
     "text": [
      "15\n"
     ]
    }
   ],
   "source": [
    "fields = [1,2,3,4,5]\n",
    "sum=0\n",
    "for i in fields:\n",
    "    sum= sum + i\n",
    "print (sum)\n"
   ]
  },
  {
   "cell_type": "code",
   "execution_count": 6,
   "metadata": {},
   "outputs": [
    {
     "data": {
      "text/plain": [
       "3.0"
      ]
     },
     "execution_count": 6,
     "metadata": {},
     "output_type": "execute_result"
    }
   ],
   "source": [
    "#   Calcuate the average of above list ???  \n",
    "avg= sum/len(fields)\n",
    "avg"
   ]
  },
  {
   "cell_type": "markdown",
   "metadata": {},
   "source": [
    "### List Comprehension"
   ]
  },
  {
   "cell_type": "markdown",
   "metadata": {},
   "source": [
    "Python also has what is called a list comprehension, which is a compact way of writing many loops."
   ]
  },
  {
   "cell_type": "code",
   "execution_count": 7,
   "metadata": {},
   "outputs": [
    {
     "data": {
      "text/plain": [
       "[1, 2, 3, 4, 5]"
      ]
     },
     "execution_count": 7,
     "metadata": {},
     "output_type": "execute_result"
    }
   ],
   "source": [
    "numbers = [int(kk) for kk in fields]\n",
    "numbers "
   ]
  },
  {
   "cell_type": "code",
   "execution_count": 118,
   "metadata": {},
   "outputs": [
    {
     "name": "stdout",
     "output_type": "stream",
     "text": [
      "['Z', 'a', 'v', 'i', 'y', 'a', 'r', ' ', 'K', 'h', 'a', 't', 't', 'a', 'k']\n"
     ]
    }
   ],
   "source": [
    "h_letter=[]\n",
    "for letter in \"Zaviyar Khattak\":\n",
    "    h_letter.append(letter)\n",
    "print(h_letter)\n"
   ]
  },
  {
   "cell_type": "code",
   "execution_count": 10,
   "metadata": {},
   "outputs": [
    {
     "name": "stdout",
     "output_type": "stream",
     "text": [
      "['U', 's', 'a', 'm', 'a']\n"
     ]
    }
   ],
   "source": [
    "h_letter=[letter for letter in 'Usama']\n",
    "print(h_letter)"
   ]
  },
  {
   "cell_type": "code",
   "execution_count": 11,
   "metadata": {},
   "outputs": [
    {
     "data": {
      "text/plain": [
       "[441, 144]"
      ]
     },
     "execution_count": 11,
     "metadata": {},
     "output_type": "execute_result"
    }
   ],
   "source": [
    "lst = [10, 21, 4 , 7, 12]\n",
    "\n",
    "[num*num for num in lst if num > 10]"
   ]
  },
  {
   "cell_type": "markdown",
   "metadata": {},
   "source": [
    "**Excercise:**\n",
    "Calculate the Square of the lst1[10, 21, 4, 7, 12] greater than equal to 10  using list comprehension ?"
   ]
  },
  {
   "cell_type": "code",
   "execution_count": 24,
   "metadata": {},
   "outputs": [
    {
     "data": {
      "text/plain": [
       "[144, 441, 16, 49, 196]"
      ]
     },
     "execution_count": 24,
     "metadata": {},
     "output_type": "execute_result"
    }
   ],
   "source": [
    "# To D0\n",
    "lst =  [12, 21, 4, 7, 14]\n",
    "[num*num for num in lst if num > 3]\n",
    "\n",
    "\n"
   ]
  },
  {
   "cell_type": "markdown",
   "metadata": {},
   "source": [
    "### Break and Continue\n",
    "\n",
    "Both for and while statements can have the flow modified with the `break` and\n",
    "`continue` statements.\n",
    "\n",
    "If execution hits a `continue` statement, then the execution will jump\n",
    "immediately to the start of the next iteration of the loop.  This is useful if\n",
    "you want to skip occasional values:"
   ]
  },
  {
   "cell_type": "markdown",
   "metadata": {},
   "source": [
    "Lets print even elements from the given list"
   ]
  },
  {
   "cell_type": "code",
   "execution_count": 115,
   "metadata": {},
   "outputs": [
    {
     "name": "stdout",
     "output_type": "stream",
     "text": [
      "6\n",
      "4\n",
      "2\n"
     ]
    }
   ],
   "source": [
    "values = [7, 6, 4, 7, 19, 2, 1]\n",
    "\n",
    "for i in values:\n",
    "    if i % 2 != 0:\n",
    "        # skip odd numbers\n",
    "        continue\n",
    "    print (i)"
   ]
  },
  {
   "cell_type": "markdown",
   "metadata": {},
   "source": [
    "Print the elements of the list until you encounter 'stop'."
   ]
  },
  {
   "cell_type": "code",
   "execution_count": 116,
   "metadata": {},
   "outputs": [
    {
     "name": "stdout",
     "output_type": "stream",
     "text": [
      "start\n",
      "process\n",
      "process\n",
      "process\n"
     ]
    }
   ],
   "source": [
    "command_list = ['start', 'process', 'process', 'process', 'stop', 'start', 'process', 'stop']\n",
    "\n",
    "while command_list:\n",
    "    command = command_list.pop(0)\n",
    "    if command == 'stop':\n",
    "        break\n",
    "    print(command)"
   ]
  },
  {
   "cell_type": "markdown",
   "metadata": {},
   "source": [
    "[Back To The Table of Contents](#TOC)"
   ]
  },
  {
   "cell_type": "markdown",
   "metadata": {},
   "source": [
    "<a id=\"Functions\"></a>\n",
    "# Functions\n",
    "========"
   ]
  },
  {
   "cell_type": "code",
   "execution_count": 104,
   "metadata": {},
   "outputs": [],
   "source": [
    "def add(x,y):\n",
    "    \"\"\" Add two values\"\"\"\n",
    "    a = x+y\n",
    "    return a"
   ]
  },
  {
   "cell_type": "code",
   "execution_count": 105,
   "metadata": {},
   "outputs": [
    {
     "name": "stdout",
     "output_type": "stream",
     "text": [
      "5\n"
     ]
    }
   ],
   "source": [
    "print (add(2,3))"
   ]
  },
  {
   "cell_type": "markdown",
   "metadata": {},
   "source": [
    "# Excersie: what will be the output"
   ]
  },
  {
   "cell_type": "code",
   "execution_count": 106,
   "metadata": {},
   "outputs": [
    {
     "name": "stdout",
     "output_type": "stream",
     "text": [
      "99\n"
     ]
    }
   ],
   "source": [
    "\n",
    "print (add(ord('a'),2)) ##"
   ]
  },
  {
   "cell_type": "code",
   "execution_count": 107,
   "metadata": {},
   "outputs": [
    {
     "name": "stdout",
     "output_type": "stream",
     "text": [
      "foobar\n"
     ]
    }
   ],
   "source": [
    "print (add('foo','bar'))"
   ]
  },
  {
   "cell_type": "code",
   "execution_count": 108,
   "metadata": {},
   "outputs": [
    {
     "name": "stdout",
     "output_type": "stream",
     "text": [
      "[1, 2, 3, 4, 5, 6]\n"
     ]
    }
   ],
   "source": [
    "print (add([1,2,3],[4,5,6]))"
   ]
  },
  {
   "cell_type": "code",
   "execution_count": 113,
   "metadata": {},
   "outputs": [
    {
     "name": "stdout",
     "output_type": "stream",
     "text": [
      "['1']\n"
     ]
    }
   ],
   "source": [
    "list = ['1']\n",
    "\n",
    "s = ' '.join(list)\n",
    "\n",
    "\n",
    "print (list) # if passed parameter which can't be added, it will return an exception"
   ]
  },
  {
   "cell_type": "markdown",
   "metadata": {},
   "source": [
    "#### Function arguments with default values"
   ]
  },
  {
   "cell_type": "code",
   "execution_count": 90,
   "metadata": {},
   "outputs": [],
   "source": [
    "def add_w_default(x, y = 10):\n",
    "    return x+y"
   ]
  },
  {
   "cell_type": "code",
   "execution_count": 93,
   "metadata": {},
   "outputs": [
    {
     "data": {
      "text/plain": [
       "40"
      ]
     },
     "execution_count": 93,
     "metadata": {},
     "output_type": "execute_result"
    }
   ],
   "source": [
    "add_w_default(30)"
   ]
  },
  {
   "cell_type": "code",
   "execution_count": 95,
   "metadata": {},
   "outputs": [
    {
     "data": {
      "text/plain": [
       "55"
      ]
     },
     "execution_count": 95,
     "metadata": {},
     "output_type": "execute_result"
    }
   ],
   "source": [
    "add_w_default(20, 35)"
   ]
  },
  {
   "cell_type": "code",
   "execution_count": 96,
   "metadata": {},
   "outputs": [
    {
     "data": {
      "text/plain": [
       "30"
      ]
     },
     "execution_count": 96,
     "metadata": {},
     "output_type": "execute_result"
    }
   ],
   "source": [
    "add_w_default(y=20, x = 10)"
   ]
  },
  {
   "cell_type": "markdown",
   "metadata": {},
   "source": [
    "It's an advanced concept that you will often encounter in production level libraries\n",
    "\n",
    "- definition of kwargs"
   ]
  },
  {
   "cell_type": "code",
   "execution_count": 99,
   "metadata": {},
   "outputs": [
    {
     "data": {
      "text/plain": [
       "57"
      ]
     },
     "execution_count": 99,
     "metadata": {},
     "output_type": "execute_result"
    }
   ],
   "source": [
    "10+11+12+13+11"
   ]
  },
  {
   "cell_type": "code",
   "execution_count": 100,
   "metadata": {},
   "outputs": [],
   "source": [
    "# A function can accept arbitrary keyword argument using the following syntax\n",
    "def add(x, **kwargs):\n",
    "    print (type(kwargs))\n",
    "    total = x\n",
    "    for arg,value in kwargs.items():\n",
    "        print ('adding ', arg)\n",
    "        total += value\n",
    "    return total "
   ]
  },
  {
   "cell_type": "code",
   "execution_count": 101,
   "metadata": {},
   "outputs": [
    {
     "name": "stdout",
     "output_type": "stream",
     "text": [
      "<class 'dict'>\n",
      "adding  y\n",
      "adding  z\n",
      "adding  w\n",
      "adding  p\n",
      "57\n"
     ]
    }
   ],
   "source": [
    "print (add(10, y = 11, z = 12, w=13, p =11))"
   ]
  },
  {
   "cell_type": "code",
   "execution_count": 102,
   "metadata": {},
   "outputs": [],
   "source": [
    "# The following syntax accepts any number of positional and keyword arguments\n",
    "def foo(*args, **kwargs):\n",
    "    print (args, kwargs)"
   ]
  },
  {
   "cell_type": "code",
   "execution_count": 103,
   "metadata": {},
   "outputs": [
    {
     "name": "stdout",
     "output_type": "stream",
     "text": [
      "(2, 3) {'x': 'foo', 'z': 10}\n"
     ]
    }
   ],
   "source": [
    "foo(2,3, x='foo', z=10)"
   ]
  },
  {
   "cell_type": "markdown",
   "metadata": {},
   "source": [
    "[Back To The Table of Contents](#TOC)"
   ]
  },
  {
   "cell_type": "markdown",
   "metadata": {},
   "source": [
    "<a id=\"Classes\"></a>\n",
    "## Classes\n",
    "=======\n",
    "\n",
    "Now lets create a class. In Python, every class should derive from object. \n",
    "Our class will describe a person, with a name and an age. We will supply a constructor, and \n",
    "a method to get the full name."
   ]
  },
  {
   "cell_type": "markdown",
   "metadata": {},
   "source": [
    "# Create a Class\n",
    "\n",
    "To create a class, use the keyword class:"
   ]
  },
  {
   "cell_type": "code",
   "execution_count": 86,
   "metadata": {},
   "outputs": [],
   "source": [
    "class MyClass:\n",
    "  x = 10"
   ]
  },
  {
   "cell_type": "markdown",
   "metadata": {},
   "source": [
    "# Create Object\n",
    "\n",
    "Now we can use the class named MyClass to create objects:"
   ]
  },
  {
   "cell_type": "code",
   "execution_count": 87,
   "metadata": {},
   "outputs": [
    {
     "name": "stdout",
     "output_type": "stream",
     "text": [
      "10\n"
     ]
    }
   ],
   "source": [
    "p1 = MyClass()\n",
    "print(p1.x) "
   ]
  },
  {
   "cell_type": "markdown",
   "metadata": {},
   "source": [
    "# The __init__() Function\n",
    "\n",
    "The examples above are classes and objects in their simplest form, and are not really useful in real life applications.\n",
    "\n",
    "To understand the meaning of classes we have to understand the built-in __init__() function.\n",
    "\n",
    "All classes have a function called __init__(), which is always executed when the class is being initiated.\n",
    "\n",
    "Use the __init__() function to assign values to object properties, or other operations that are necessary to do when the object is being created:"
   ]
  },
  {
   "cell_type": "markdown",
   "metadata": {},
   "source": [
    "# Example\n",
    "\n",
    "Create a class named Person, use the __init__() function to assign values for name and age:"
   ]
  },
  {
   "cell_type": "code",
   "execution_count": 88,
   "metadata": {},
   "outputs": [],
   "source": [
    "class Person(object):\n",
    "    def __init__(self, first, last, age):\n",
    "        self.first = first\n",
    "        self.last = last\n",
    "        self.age = age\n",
    "    \n",
    "    def full_name(self):\n",
    "        return self.first + ' ' + self.last"
   ]
  },
  {
   "cell_type": "code",
   "execution_count": 89,
   "metadata": {},
   "outputs": [
    {
     "name": "stdout",
     "output_type": "stream",
     "text": [
      "Zaviyar\n",
      "7\n"
     ]
    }
   ],
   "source": [
    "class Person:\n",
    "  def __init__(self, name, age):\n",
    "    self.name = name\n",
    "    self.age = age\n",
    "\n",
    "p1 = Person(\"Zaviyar\", 7)\n",
    "\n",
    "print(p1.name)\n",
    "print(p1.age) "
   ]
  },
  {
   "cell_type": "markdown",
   "metadata": {},
   "source": [
    "# Object Methods\n",
    "\n",
    "Objects can also contain methods. Methods in objects are functions that belong to the object.\n",
    "\n",
    "Let us create a method in the Person class:"
   ]
  },
  {
   "cell_type": "code",
   "execution_count": 83,
   "metadata": {},
   "outputs": [
    {
     "name": "stdout",
     "output_type": "stream",
     "text": [
      "Hello my name is Zaviyar\n"
     ]
    }
   ],
   "source": [
    "class Person:\n",
    "  def __init__(self, name, age):\n",
    "    self.name = name\n",
    "    self.age = age\n",
    "\n",
    "  def myfunc(self):\n",
    "    print(\"Hello my name is \" + self.name)\n",
    "\n",
    "p1 = Person(\"Zaviyar\", 6)\n",
    "p1.myfunc() "
   ]
  },
  {
   "cell_type": "markdown",
   "metadata": {},
   "source": [
    "# The self Parameter\n",
    "\n",
    "**Note: The self parameter is a reference to the current instance of the class, and is used to access variables that belong to the class.\n",
    "\n",
    "**It does not have to be named self , you can call it whatever you like, but it has to be the first parameter of any function in the class:"
   ]
  },
  {
   "cell_type": "code",
   "execution_count": 76,
   "metadata": {},
   "outputs": [
    {
     "name": "stdout",
     "output_type": "stream",
     "text": [
      "Hello my name is Zaviyar\n"
     ]
    }
   ],
   "source": [
    "class Person:\n",
    "  def __init__(mysillyobject, name, age):\n",
    "    mysillyobject.name = name\n",
    "    mysillyobject.age = age\n",
    "\n",
    "  def myfunc(abc):\n",
    "    print(\"Hello my name is \" + abc.name)\n",
    "\n",
    "p1 = Person(\"Zaviyar\", 6)\n",
    "p1.myfunc() "
   ]
  },
  {
   "cell_type": "code",
   "execution_count": 77,
   "metadata": {},
   "outputs": [],
   "source": [
    "class Man:\n",
    "    def __init__(self, first, last, age):\n",
    "        self.first=first\n",
    "        self.last=last\n",
    "        self.age=age\n",
    "    def full_name(self):\n",
    "        return self.first + ' ' + self.last + ' ' + self.age"
   ]
  },
  {
   "cell_type": "code",
   "execution_count": 80,
   "metadata": {},
   "outputs": [
    {
     "name": "stdout",
     "output_type": "stream",
     "text": [
      "khattak\n",
      "44\n",
      "Abrar\n"
     ]
    }
   ],
   "source": [
    "man= Man('khattak', 'Abrar', 44)\n",
    "print(man.first)\n",
    "print(man.age)\n",
    "print(man.last)"
   ]
  },
  {
   "cell_type": "markdown",
   "metadata": {},
   "source": [
    "# Excersie:\n",
    "\n",
    "**Modify Object Properties\n",
    "**Delete Object Properties\n",
    "**Delete Objects\n",
    "**The pass Statement"
   ]
  },
  {
   "cell_type": "markdown",
   "metadata": {},
   "source": []
  },
  {
   "cell_type": "markdown",
   "metadata": {},
   "source": [
    "Now we can create an instance of a Person, and work with the attributes of the class."
   ]
  },
  {
   "cell_type": "markdown",
   "metadata": {},
   "source": [
    "[Back To The Table of Contents](#TOC)"
   ]
  },
  {
   "cell_type": "markdown",
   "metadata": {},
   "source": [
    "<a id=\"PGPT\"></a>\n",
    "# Python for General purpose task"
   ]
  },
  {
   "cell_type": "markdown",
   "metadata": {},
   "source": [
    "python has many utility functions and libraries\n",
    "including\n",
    "os, os.path, time, shutil, urlib, datetime, etc.\n"
   ]
  },
  {
   "cell_type": "code",
   "execution_count": 135,
   "metadata": {},
   "outputs": [
    {
     "data": {
      "text/plain": [
       "['.conda',\n",
       " '.condarc',\n",
       " '.continuum',\n",
       " '.ipynb_checkpoints',\n",
       " '.ipython',\n",
       " '.jupyter',\n",
       " '.matplotlib',\n",
       " '.vscode',\n",
       " '2. Majorit Class Overlapping .ipynb',\n",
       " '2.1 Intro_to_Python-stu.ipynb',\n",
       " '2.2 DA_With_Pandas.ipynb',\n",
       " '2.2 DA_With_Pandas_in_session.ipynb',\n",
       " '2.2 DA_With_Pandas_sol.ipynb',\n",
       " '2.3 Python-Plots.ipynb',\n",
       " '3.2 Practical-machine-learning.ipynb',\n",
       " '3.3 AdvML-Full.ipynb',\n",
       " '3D Objects',\n",
       " 'Abalone.csv',\n",
       " 'anaconda3',\n",
       " 'AppData',\n",
       " 'Application Data',\n",
       " 'BSDS-Class-0.ipynb',\n",
       " 'BSDS-Class-0C.ipynb',\n",
       " 'BSDS-Class1.ipynb',\n",
       " 'BSDS-Class1C.ipynb',\n",
       " 'BSDS-Class_4 C.ipynb',\n",
       " 'BSDS-Class_4.ipynb',\n",
       " 'BSDS-Class_5C.ipynb',\n",
       " 'BSDS-Class_6C.ipynb',\n",
       " 'BSDS_Class_2.ipynb',\n",
       " 'chipotle.tsv',\n",
       " \"console.log('..............');.js\",\n",
       " 'Contacts',\n",
       " 'Cookies',\n",
       " 'Desktop',\n",
       " 'Documents',\n",
       " 'Downloads',\n",
       " 'Empirical comparsion using Glass.ipynb',\n",
       " 'Favorites',\n",
       " 'imdb_1000.csv',\n",
       " 'IntelGraphicsProfiles',\n",
       " 'iris.csv',\n",
       " 'iris_1.csv',\n",
       " 'Iris_new.csv',\n",
       " 'Links',\n",
       " 'Local Settings',\n",
       " 'MachineLearningInExcel.xlsx',\n",
       " 'movieusers.tsv',\n",
       " 'MS_Class_0.ipynb',\n",
       " 'MS_Class_1.ipynb',\n",
       " 'Music',\n",
       " 'My Documents',\n",
       " 'NetHood',\n",
       " 'NTUSER.DAT',\n",
       " 'ntuser.dat.LOG1',\n",
       " 'ntuser.dat.LOG2',\n",
       " 'NTUSER.DAT{53b39e88-18c4-11ea-a811-000d3aa4692b}.TM.blf',\n",
       " 'NTUSER.DAT{53b39e88-18c4-11ea-a811-000d3aa4692b}.TMContainer00000000000000000001.regtrans-ms',\n",
       " 'NTUSER.DAT{53b39e88-18c4-11ea-a811-000d3aa4692b}.TMContainer00000000000000000002.regtrans-ms',\n",
       " 'ntuser.ini',\n",
       " 'OneDrive',\n",
       " 'Pictures',\n",
       " 'PrintHood',\n",
       " 'Recent',\n",
       " 'Recoverd files',\n",
       " 'Saved Games',\n",
       " 'Searches',\n",
       " 'SendTo',\n",
       " 'Start Menu',\n",
       " 'Technicle discusion.ipynb',\n",
       " 'Templates',\n",
       " 'ufo.csv',\n",
       " 'Videos']"
      ]
     },
     "execution_count": 135,
     "metadata": {},
     "output_type": "execute_result"
    }
   ],
   "source": [
    "import os\n",
    "os.listdir(os.getcwd()) # Python method getcwd() returns current working directory of a process.\n",
    "#os.listdir() # Python method listdir() returns a list containing the names of the entries in the directory given by path. The list is in arbitrary order.\n",
    "#notebookfiles = [x for x in os.listdir(os.getcwd()) if x.endswith('.ipynb')]\n",
    "#notebookfiles\n",
    "\n",
    "#os.getcwd() # Python method getcwd() returns current working directory of a process. \n",
    "#os.chdir() #os.chdir() method in Python used to change the current working directory to specified path. It takes only a single argument as new directory path.\n",
    "\n",
    "\n"
   ]
  },
  {
   "cell_type": "code",
   "execution_count": 1,
   "metadata": {},
   "outputs": [
    {
     "name": "stdout",
     "output_type": "stream",
     "text": [
      "sleep for seconds: 3 s\n"
     ]
    }
   ],
   "source": [
    "import time\n",
    "time.sleep(3)\n",
    "print ('sleep for seconds: 3 s')"
   ]
  },
  {
   "cell_type": "code",
   "execution_count": 2,
   "metadata": {},
   "outputs": [
    {
     "name": "stdout",
     "output_type": "stream",
     "text": [
      "Mon Jun 20 18:44:15 2022\n"
     ]
    }
   ],
   "source": [
    "print (time.ctime())"
   ]
  },
  {
   "cell_type": "code",
   "execution_count": 42,
   "metadata": {},
   "outputs": [],
   "source": [
    "import urllib\n",
    "#response = urllib.('http://python.org/')\n",
    "#html = response.read()\n",
    "import urllib.request\n",
    " \n",
    "#html = urllib.request.urlopen('https://artifex.org/~hblanks/talks/2011/pep20_by_example.py.txt').read()\n",
    "#print (html)"
   ]
  },
  {
   "cell_type": "markdown",
   "metadata": {},
   "source": [
    "Now lets see how we can work with files in Python. We will start by creating a directory using some commands you can do in IPython."
   ]
  },
  {
   "cell_type": "code",
   "execution_count": 43,
   "metadata": {},
   "outputs": [
    {
     "name": "stdout",
     "output_type": "stream",
     "text": [
      "C:\\Users\\Hp\n"
     ]
    }
   ],
   "source": [
    "cd ~"
   ]
  },
  {
   "cell_type": "code",
   "execution_count": 44,
   "metadata": {},
   "outputs": [],
   "source": [
    "mkdir DS-AQ2"
   ]
  },
  {
   "cell_type": "code",
   "execution_count": 45,
   "metadata": {},
   "outputs": [
    {
     "name": "stdout",
     "output_type": "stream",
     "text": [
      "C:\\Users\\Hp\\DS-AQ2\n"
     ]
    }
   ],
   "source": [
    "cd DS-AQ2"
   ]
  },
  {
   "cell_type": "markdown",
   "metadata": {},
   "source": [
    "Now we will create a file, and write a couple of lines of data to it."
   ]
  },
  {
   "cell_type": "code",
   "execution_count": 46,
   "metadata": {},
   "outputs": [],
   "source": [
    "file = open('data.txt', 'w')\n",
    "file.write('1 2 3 4\\n')\n",
    "file.write('2 3 4 5\\n')\n",
    "file.close()"
   ]
  },
  {
   "cell_type": "code",
   "execution_count": 47,
   "metadata": {},
   "outputs": [],
   "source": [
    "file= open(\"data.txt\",'w')\n",
    "file.write(\"this is line one\\n\")\n",
    "file.write(\"this is line two\\n\")\n",
    "file.write(\"this is line three\\n\")\n",
    "file.writelines(\"this is line four\\n\")\n",
    "file.writelines(\"this is line five\\n\")\n",
    "file.close()"
   ]
  },
  {
   "cell_type": "code",
   "execution_count": 48,
   "metadata": {},
   "outputs": [
    {
     "name": "stdout",
     "output_type": "stream",
     "text": [
      "this is line one\n",
      "this is line two\n",
      "this is line three\n",
      "this is line four\n",
      "this is line five\n",
      "\n"
     ]
    }
   ],
   "source": [
    "file= open(\"data.txt\", \"r\")\n",
    "#print(file.readline())\n",
    "print(file.read())"
   ]
  },
  {
   "cell_type": "code",
   "execution_count": 49,
   "metadata": {},
   "outputs": [
    {
     "name": "stdout",
     "output_type": "stream",
     "text": [
      "[]\n"
     ]
    }
   ],
   "source": [
    "print(file.readlines())\n",
    "\n"
   ]
  },
  {
   "cell_type": "code",
   "execution_count": 50,
   "metadata": {},
   "outputs": [],
   "source": [
    "file=open(\"data.txt\",'w')\n",
    "\n",
    "file.write(\"line 6\\n\")\n",
    "file.write(\"line 7\\n\")\n",
    "file.write(\"line 8\\n\")\n",
    "file.close()"
   ]
  },
  {
   "cell_type": "code",
   "execution_count": 51,
   "metadata": {},
   "outputs": [],
   "source": [
    "file=open(\"data.txt\",'w')\n",
    "\n",
    "file.write(\"line 9\\n\")\n",
    "file.write(\"line 10\\n\")\n",
    "file.write(\"line 11\\n\")\n",
    "file.close()"
   ]
  },
  {
   "cell_type": "code",
   "execution_count": 52,
   "metadata": {},
   "outputs": [],
   "source": [
    "file=open(\"data.txt\",'a+')\n",
    "\n",
    "file.write(\"line 6\\n\")\n",
    "file.write(\"line 7\\n\")\n",
    "file.write(\"line 8\\n\")\n",
    "file.close()"
   ]
  },
  {
   "cell_type": "code",
   "execution_count": 148,
   "metadata": {},
   "outputs": [
    {
     "name": "stdout",
     "output_type": "stream",
     "text": [
      "line 9\n",
      "\n",
      "line 10\n",
      "\n",
      "line 11\n",
      "\n",
      "line 6\n",
      "\n",
      "line 7\n",
      "\n",
      "line 8\n",
      "\n"
     ]
    }
   ],
   "source": [
    "file=open(\"example.txt\",\"r\")\n",
    "#for val in file:\n",
    " #   print(val)\n",
    "for row in file:\n",
    "    print(row)"
   ]
  },
  {
   "cell_type": "code",
   "execution_count": 53,
   "metadata": {},
   "outputs": [],
   "source": [
    "file= open('data.txt','w')\n",
    "file.write('1 2 3 4\\n')\n",
    "file.write('2 3 4 5\\n')\n",
    "file.close()"
   ]
  },
  {
   "cell_type": "markdown",
   "metadata": {},
   "source": [
    "Now we can re-open the file, and do some processing on it."
   ]
  },
  {
   "cell_type": "code",
   "execution_count": 54,
   "metadata": {},
   "outputs": [
    {
     "data": {
      "text/plain": [
       "[[1, 2, 3, 4], [2, 3, 4, 5]]"
      ]
     },
     "execution_count": 54,
     "metadata": {},
     "output_type": "execute_result"
    }
   ],
   "source": [
    "file = open('data.txt')\n",
    "data = []\n",
    "for line in file:\n",
    "    data.append([int(field) for field in line.split()])\n",
    "data"
   ]
  },
  {
   "cell_type": "code",
   "execution_count": 55,
   "metadata": {},
   "outputs": [
    {
     "data": {
      "text/plain": [
       "[[1, 2, 3, 4], [2, 3, 4, 5]]"
      ]
     },
     "execution_count": 55,
     "metadata": {},
     "output_type": "execute_result"
    }
   ],
   "source": [
    "file= open('data.txt')\n",
    "data=[]\n",
    "for line in file:\n",
    "    data.append([int(d) for d in line.split()])\n",
    "data\n"
   ]
  },
  {
   "cell_type": "code",
   "execution_count": 56,
   "metadata": {},
   "outputs": [],
   "source": [
    "file=open(\"data.txt\",'w')\n",
    "#file.write('1 2 3 4, 5\\n')\n",
    "file.write('2,3,4,5, 6\\n')\n",
    "file.close()"
   ]
  },
  {
   "cell_type": "code",
   "execution_count": 57,
   "metadata": {},
   "outputs": [
    {
     "name": "stdout",
     "output_type": "stream",
     "text": [
      "[[2, 3, 4, 5, 6]]\n"
     ]
    }
   ],
   "source": [
    "file= open('data.txt')\n",
    "newdata=[]\n",
    "for val in file:\n",
    "    newdata.append([int(field) for field in val.split(',')])\n",
    "print(newdata)\n",
    "\n"
   ]
  },
  {
   "cell_type": "code",
   "execution_count": 58,
   "metadata": {},
   "outputs": [
    {
     "name": "stdout",
     "output_type": "stream",
     "text": [
      "[1, 2, 3, 4]\n",
      "[2, 3, 4, 5]\n"
     ]
    }
   ],
   "source": [
    "for row in data:\n",
    "    print (row)\n",
    "    #print row"
   ]
  },
  {
   "cell_type": "markdown",
   "metadata": {},
   "source": [
    "Now we will clean up this file."
   ]
  },
  {
   "cell_type": "code",
   "execution_count": 59,
   "metadata": {},
   "outputs": [],
   "source": [
    "file.close()"
   ]
  },
  {
   "cell_type": "code",
   "execution_count": null,
   "metadata": {},
   "outputs": [],
   "source": [
    "import os\n",
    "os.remove('DSA2temp') #remove the file you didnt want"
   ]
  },
  {
   "cell_type": "code",
   "execution_count": 31,
   "metadata": {},
   "outputs": [
    {
     "name": "stdout",
     "output_type": "stream",
     "text": [
      "C:\\Users\n"
     ]
    }
   ],
   "source": [
    "cd .."
   ]
  },
  {
   "cell_type": "code",
   "execution_count": null,
   "metadata": {},
   "outputs": [],
   "source": [
    "os.rmdir('DS-AQ2')"
   ]
  },
  {
   "cell_type": "markdown",
   "metadata": {},
   "source": [
    "Now we will take a look at modules. Python provides a whole host of built-in modules. We will explore the os module, which provides operating system information."
   ]
  },
  {
   "cell_type": "code",
   "execution_count": 62,
   "metadata": {},
   "outputs": [
    {
     "data": {
      "text/plain": [
       "14896"
      ]
     },
     "execution_count": 62,
     "metadata": {},
     "output_type": "execute_result"
    }
   ],
   "source": [
    "import os\n",
    "os.getpid() #os.getpid() method in Python is used to get the process ID of the current process."
   ]
  },
  {
   "cell_type": "code",
   "execution_count": 63,
   "metadata": {},
   "outputs": [
    {
     "name": "stdout",
     "output_type": "stream",
     "text": [
      "['2,3,4,5,', '6']\n"
     ]
    },
    {
     "data": {
      "text/plain": [
       "2"
      ]
     },
     "execution_count": 63,
     "metadata": {},
     "output_type": "execute_result"
    }
   ],
   "source": [
    "unique = []\n",
    "file=open('data.txt', 'r')\n",
    "s= file.read()\n",
    "for w in s.split():\n",
    "    unique.append(w)\n",
    "print(unique)\n",
    "len(unique)"
   ]
  },
  {
   "cell_type": "code",
   "execution_count": 64,
   "metadata": {},
   "outputs": [
    {
     "name": "stdout",
     "output_type": "stream",
     "text": [
      "['2,3,4,5,', '6']\n"
     ]
    },
    {
     "data": {
      "text/plain": [
       "2"
      ]
     },
     "execution_count": 64,
     "metadata": {},
     "output_type": "execute_result"
    }
   ],
   "source": [
    "file= open('data.txt', 'r')\n",
    "numwords=0\n",
    "for line in file:\n",
    "    words= line.split()\n",
    "    numwords += len(words)\n",
    "    print(words)\n",
    "numwords\n",
    "#print(words)"
   ]
  },
  {
   "cell_type": "code",
   "execution_count": 68,
   "metadata": {},
   "outputs": [
    {
     "name": "stdout",
     "output_type": "stream",
     "text": [
      "{'2,3,4,5,': 2, '6': 2}\n"
     ]
    }
   ],
   "source": [
    "coutn={}\n",
    "file= open('data.txt', 'r')\n",
    "s= file.read()\n",
    "for word in s.split():\n",
    "    if word in count.keys():\n",
    "        count[word] +=1\n",
    "    else:\n",
    "        count[word] =1\n",
    "print(count)"
   ]
  },
  {
   "cell_type": "code",
   "execution_count": 67,
   "metadata": {},
   "outputs": [
    {
     "name": "stdout",
     "output_type": "stream",
     "text": [
      "{'2,3,4,5,': 1, '6': 1}\n"
     ]
    }
   ],
   "source": [
    "count={}\n",
    "file= open('data.txt', 'r')\n",
    "s= file.read()\n",
    "for word in s.split():\n",
    "    if word in count.keys():\n",
    "        count[word] +=1\n",
    "    else:\n",
    "        count[word] =1\n",
    "print(count)"
   ]
  },
  {
   "cell_type": "code",
   "execution_count": 69,
   "metadata": {},
   "outputs": [
    {
     "name": "stdout",
     "output_type": "stream",
     "text": [
      "2,3,4,5, was found 1 times\n",
      "6 was found 1 times\n"
     ]
    }
   ],
   "source": [
    "count = {}\n",
    "for w in open('data.txt').read().split():   #at a time 3 operations\n",
    "    if w in count:\n",
    "        count[w] += 1\n",
    "    else:\n",
    "        count[w] = 1\n",
    "for word, times in count.items():\n",
    "    print (\"%s was found %d times\" % (word, times))"
   ]
  },
  {
   "cell_type": "code",
   "execution_count": 70,
   "metadata": {},
   "outputs": [
    {
     "name": "stdout",
     "output_type": "stream",
     "text": [
      "2,3,4,5, 1\n",
      "6 1\n"
     ]
    }
   ],
   "source": [
    "file=open(\"data.txt\",\"r+\")\n",
    "\n",
    "wordcount={}\n",
    "\n",
    "for word in file.read().split():\n",
    "    if word not in wordcount:\n",
    "        wordcount[word] = 1\n",
    "    else:\n",
    "        wordcount[word] += 1\n",
    "\n",
    "for k,v in wordcount.items():\n",
    "    print (k, v)"
   ]
  },
  {
   "cell_type": "code",
   "execution_count": 71,
   "metadata": {},
   "outputs": [
    {
     "name": "stdout",
     "output_type": "stream",
     "text": [
      "2\n"
     ]
    }
   ],
   "source": [
    "file= open('data.txt')\n",
    "count=[]\n",
    "s= file.read()\n",
    "d=s.lower()\n",
    "wordcount=0\n",
    "for word in d.split():\n",
    "    count.append(word)\n",
    "print(len(count))\n"
   ]
  },
  {
   "cell_type": "code",
   "execution_count": 72,
   "metadata": {},
   "outputs": [],
   "source": [
    "count={}\n",
    "file= open('data.txt')\n",
    "s= file.read()\n",
    "d=s.lower()\n",
    "for word in d.split():\n",
    "    if word in count.keys():\n",
    "        count[word] +=1\n",
    "    else:\n",
    "        count[word] = 1\n",
    "    \n",
    "#print(count)\n",
    "#for k,v in count.items():\n",
    "   # print(k,v)\n",
    "#sorted(count.values())\n",
    "#sorted(count.items(), key=lambda items:items[1])\n",
    "new=[pair[0] for pair in sorted(count.items(), key=lambda items:items[1])]\n",
    "nnew= ' '.join(new)\n",
    "nnew\n",
    "\n",
    "#[pair[0] for pair in sorted(d.items(), key=lambda item: item[1])]\n",
    "\n",
    "file=open('data.txt', 'w')\n",
    "file.write(nnew)\n",
    "file.close()\n",
    "#list1.append(line.strip(','))"
   ]
  },
  {
   "cell_type": "code",
   "execution_count": 73,
   "metadata": {},
   "outputs": [],
   "source": [
    "file=open('data.txt', 'w')"
   ]
  },
  {
   "cell_type": "code",
   "execution_count": 74,
   "metadata": {},
   "outputs": [
    {
     "name": "stdout",
     "output_type": "stream",
     "text": [
      "2\n"
     ]
    }
   ],
   "source": [
    "print(len(count))"
   ]
  },
  {
   "cell_type": "code",
   "execution_count": 75,
   "metadata": {},
   "outputs": [],
   "source": [
    "file.close()"
   ]
  },
  {
   "cell_type": "markdown",
   "metadata": {},
   "source": [
    "[Back To The Table of Contents](#TOC)"
   ]
  },
  {
   "cell_type": "markdown",
   "metadata": {},
   "source": [
    "<a id=\"Excercises\"></a>\n",
    "# Excercises\n"
   ]
  },
  {
   "cell_type": "code",
   "execution_count": null,
   "metadata": {},
   "outputs": [],
   "source": []
  }
 ],
 "metadata": {
  "kernelspec": {
   "display_name": "Python 3",
   "language": "python",
   "name": "python3"
  },
  "language_info": {
   "codemirror_mode": {
    "name": "ipython",
    "version": 3
   },
   "file_extension": ".py",
   "mimetype": "text/x-python",
   "name": "python",
   "nbconvert_exporter": "python",
   "pygments_lexer": "ipython3",
   "version": "3.8.8"
  }
 },
 "nbformat": 4,
 "nbformat_minor": 1
}
