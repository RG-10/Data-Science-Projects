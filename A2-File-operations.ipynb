{
 "cells": [
  {
   "cell_type": "markdown",
   "id": "c02bd9fd",
   "metadata": {},
   "source": [
    "# Reading files in Python"
   ]
  },
  {
   "cell_type": "code",
   "execution_count": null,
   "id": "e833b1bf",
   "metadata": {},
   "outputs": [],
   "source": [
    "myFile = open(\"myFile.txt\", \"r\") # or open(\"myFile.txt\")\n",
    "print(myFile.read())\n",
    "myFile.close()"
   ]
  },
  {
   "cell_type": "code",
   "execution_count": null,
   "id": "7bce5e8a",
   "metadata": {},
   "outputs": [],
   "source": [
    "myFile = open(\"myFile.txt\", \"r\")\n",
    "print(myFile.read(11)) # Programming\n",
    "myFile.close()"
   ]
  },
  {
   "cell_type": "code",
   "execution_count": null,
   "id": "3ee9c6a4",
   "metadata": {},
   "outputs": [],
   "source": [
    "myFile = open(\"myFile.txt\")\n",
    "\n",
    "print(myFile.read(11)) # Programming\n",
    "print(myFile.read(10)) # languages\n",
    "myFile.seek(0) # Sets file cursor to the beginning\n",
    "print(myFile.read(11)) # Programming\n",
    "myFile.close() "
   ]
  },
  {
   "cell_type": "code",
   "execution_count": null,
   "id": "ece6bd5d",
   "metadata": {},
   "outputs": [],
   "source": [
    "myFile = open(\"myFile.txt\", \"r\")\n",
    "for line in myFile.readlines():\n",
    "    print(line)\n",
    "myFile.close()"
   ]
  },
  {
   "cell_type": "code",
   "execution_count": null,
   "id": "cb6c0093",
   "metadata": {},
   "outputs": [],
   "source": [
    "myFile = open(\"myFile.txt\", \"r\")\n",
    "for i, line in enumerate(myFile.readlines()):\n",
    "    print(i, line) # line number and content\n",
    "myFile.close()"
   ]
  },
  {
   "cell_type": "markdown",
   "id": "bb878265",
   "metadata": {},
   "source": [
    "# Writing Data in File"
   ]
  },
  {
   "cell_type": "code",
   "execution_count": null,
   "id": "654804f7",
   "metadata": {},
   "outputs": [],
   "source": [
    "myFile = open(\"myFile.txt\", \"w\")\n",
    "\n",
    "content = \"\"\"Programming languages\n",
    "Rust\n",
    "Ruby\n",
    "TypeScript\n",
    "Dart\n",
    "Assembly\"\"\"\n",
    "\n",
    "myFile.write(content)\n",
    "myFile.close()"
   ]
  },
  {
   "cell_type": "code",
   "execution_count": null,
   "id": "d6b9788c",
   "metadata": {},
   "outputs": [],
   "source": [
    "myFile = open(\"myFile.txt\", \"a\")\n",
    "myFile.write(\"\\nBash\")\n",
    "myFile.close()"
   ]
  },
  {
   "cell_type": "markdown",
   "id": "3d7d5880",
   "metadata": {},
   "source": [
    "# Reading file attributes in Python"
   ]
  },
  {
   "cell_type": "code",
   "execution_count": null,
   "id": "6b050540",
   "metadata": {},
   "outputs": [],
   "source": [
    "import os, time\n",
    "\n",
    "stat = os.stat(\"myFile.txt\")\n",
    "print(\"Size: %s bytes\" % stat.st_size)\n",
    "print(\"Last accessed: %s\" % time.ctime(stat.st_atime))\n",
    "print(\"Last modified: %s\" % time.ctime(stat.st_mtime))"
   ]
  },
  {
   "cell_type": "code",
   "execution_count": null,
   "id": "c56a3dfc",
   "metadata": {},
   "outputs": [],
   "source": [
    "import os, time\n",
    "\n",
    "size = os.path.getsize(\"myFile.txt\")\n",
    "print(\"Size: %s bytes\" % size)"
   ]
  },
  {
   "cell_type": "markdown",
   "id": "7c741b71",
   "metadata": {},
   "source": [
    "# Creating new Python directories"
   ]
  },
  {
   "cell_type": "code",
   "execution_count": null,
   "id": "710e57ce",
   "metadata": {},
   "outputs": [],
   "source": [
    "import os\n",
    "\n",
    "os.mkdir(\"myFolder\")"
   ]
  },
  {
   "cell_type": "code",
   "execution_count": null,
   "id": "d4010b91",
   "metadata": {},
   "outputs": [],
   "source": [
    "#to make multiple directories\n",
    "import os\n",
    "\n",
    "os.makedirs(\"myFolder/abc\") # Creates both \"myFolder\" and \"abc\""
   ]
  },
  {
   "cell_type": "markdown",
   "id": "dc767096",
   "metadata": {},
   "source": [
    "# Reading Python directory contents"
   ]
  },
  {
   "cell_type": "code",
   "execution_count": null,
   "id": "9368bf2f",
   "metadata": {},
   "outputs": [],
   "source": [
    "import os\n",
    "\n",
    "cur_dir = os.getcwd()\n",
    "entries = os.listdir(cur_dir)\n",
    "\n",
    "print(\"Found %s entries in %s\" % (len(entries), cur_dir))\n",
    "print('-' * 10)\n",
    "for entry in entries:\n",
    "    print(entry)"
   ]
  },
  {
   "cell_type": "code",
   "execution_count": null,
   "id": "0e0f980c",
   "metadata": {},
   "outputs": [],
   "source": [
    "import os\n",
    "\n",
    "cur_dir = os.getcwd()\n",
    "for root, sub_dirs, files in os.walk(cur_dir):\n",
    "    rel_root = os.path.relpath(root)\n",
    "    print(\"Showing entries of %s\" % rel_root)\n",
    "    print(\"-\" * 10)\n",
    "    for entry in sub_dirs + files:\n",
    "            print(entry)"
   ]
  },
  {
   "cell_type": "markdown",
   "id": "7e4978f5",
   "metadata": {},
   "source": [
    "# Removing files or directories in Python"
   ]
  },
  {
   "cell_type": "code",
   "execution_count": null,
   "id": "3d8e5446",
   "metadata": {},
   "outputs": [],
   "source": [
    "import os\n",
    "\n",
    "file_to_remove = \"myFile.txt\"\n",
    "\n",
    "if os.path.exists(file_to_remove):\n",
    "    os.remove(file_to_remove)\n",
    "else:\n",
    "    print(\"%s doesn't exist!\" % file_to_remove)"
   ]
  },
  {
   "cell_type": "code",
   "execution_count": null,
   "id": "4f44d491",
   "metadata": {},
   "outputs": [],
   "source": [
    "import os\n",
    "\n",
    "dir_to_remove = \"myFolder\"\n",
    "\n",
    "if os.path.exists(dir_to_remove):\n",
    "    os.rmdir(dir_to_remove)\n",
    "else:\n",
    "    print(\"%s doesn't exist!\" % dir_to_remove)"
   ]
  },
  {
   "cell_type": "code",
   "execution_count": null,
   "id": "81ba9750",
   "metadata": {},
   "outputs": [],
   "source": [
    "import os, shutil\n",
    "\n",
    "dir_to_remove = \"myFolder\"\n",
    "\n",
    "if os.path.exists(dir_to_remove):\n",
    "    shutil.rmtree(dir_to_remove) # Recursively remove all entries\n",
    "else:\n",
    "    print(\"%s doesn't exist!\" % dir_to_remove)"
   ]
  },
  {
   "cell_type": "markdown",
   "id": "66f9ffc5",
   "metadata": {},
   "source": [
    "# Performing file searches in Python"
   ]
  },
  {
   "cell_type": "code",
   "execution_count": null,
   "id": "9816e3b0",
   "metadata": {},
   "outputs": [],
   "source": [
    "import glob, os\n",
    "\n",
    "query = \"**/*.py\"\n",
    "\n",
    "entries = glob.glob(query, recursive=True)\n",
    "no_of_entries = len(entries)\n",
    "if no_of_entries == 0:\n",
    "    print(\"No results for query: %s\" % query)\n",
    "else:\n",
    "    print(\"Found %s result(s) for query: %s\" % (no_of_entries, query))\n",
    "\n",
    "print(\"-\" * 10)\n",
    "for entry in entries:\n",
    "    print(entry)"
   ]
  },
  {
   "cell_type": "code",
   "execution_count": null,
   "id": "17e4151c",
   "metadata": {},
   "outputs": [],
   "source": []
  },
  {
   "cell_type": "code",
   "execution_count": null,
   "id": "c5f9b05b",
   "metadata": {},
   "outputs": [],
   "source": []
  }
 ],
 "metadata": {
  "kernelspec": {
   "display_name": "Python 3.10.5 64-bit",
   "language": "python",
   "name": "python3"
  },
  "language_info": {
   "codemirror_mode": {
    "name": "ipython",
    "version": 3
   },
   "file_extension": ".py",
   "mimetype": "text/x-python",
   "name": "python",
   "nbconvert_exporter": "python",
   "pygments_lexer": "ipython3",
   "version": "3.10.5"
  },
  "vscode": {
   "interpreter": {
    "hash": "54075607cb87cea8fab985442b37939ae83010d20d8f4f54f53fdf66929f50ea"
   }
  }
 },
 "nbformat": 4,
 "nbformat_minor": 5
}
